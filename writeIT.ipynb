{
 "metadata": {
  "language_info": {
   "codemirror_mode": {
    "name": "ipython",
    "version": 3
   },
   "file_extension": ".py",
   "mimetype": "text/x-python",
   "name": "python",
   "nbconvert_exporter": "python",
   "pygments_lexer": "ipython3",
   "version": "3.7.8"
  },
  "orig_nbformat": 4,
  "kernelspec": {
   "name": "python3",
   "display_name": "Python 3.7.8 64-bit"
  },
  "interpreter": {
   "hash": "4800c9a39adaa0c8765317c41af873c7b6ed4d2670d38dacbf28f56f976237f1"
  }
 },
 "nbformat": 4,
 "nbformat_minor": 2,
 "cells": [
  {
   "cell_type": "code",
   "execution_count": 1,
   "metadata": {},
   "outputs": [],
   "source": [
    "import pandas as pd\n",
    "from libs.readDb import readTable\n",
    "from libs.inserts import *\n",
    "import datetime\n",
    "import random"
   ]
  },
  {
   "cell_type": "code",
   "execution_count": 2,
   "metadata": {},
   "outputs": [],
   "source": [
    "def toEng(word):\n",
    "    tr2eng = str.maketrans(\"ÇĞİÖŞÜçğıöşü\", \"CGIOSUcgiosu\")\n",
    "    engVersion = str(word).translate(tr2eng)\n",
    "    engVersion = engVersion.upper()\n",
    "    engVersion = engVersion.replace(\"'\", \"\")\n",
    "    return engVersion"
   ]
  },
  {
   "cell_type": "code",
   "execution_count": 3,
   "metadata": {},
   "outputs": [],
   "source": [
    "cities = pd.read_excel('tables.xlsx', 'city')\n",
    "cities['cityName'] = [toEng(i) for i in cities['cityName']]\n",
    "cities.drop_duplicates(inplace=True)\n",
    "\n",
    "towns = pd.read_excel('tables.xlsx', 'town')\n",
    "towns['townName'] = [toEng(i) for i in towns['townName']]\n",
    "towns.drop_duplicates(inplace=True)\n",
    "\n",
    "types = pd.read_excel('tables.xlsx', 'type')\n",
    "types['type'] = [toEng(i) for i in types['type']]\n",
    "types.drop_duplicates(inplace=True)\n",
    "\n",
    "publishers = pd.read_excel('tables.xlsx', 'publisher')\n",
    "publishers['publisherName'] = [toEng(i) for i in publishers['publisherName']]\n",
    "publishers.drop_duplicates(inplace=True)\n",
    "\n",
    "branches = pd.read_excel('tables.xlsx', 'branch')\n",
    "branches['branches'] = [toEng(i) for i in branches['branches']]\n",
    "branches.drop_duplicates(inplace=True)\n",
    "\n",
    "customers = pd.read_excel('tables.xlsx', 'customer')\n",
    "customers['customerName'] = [toEng(i) for i in customers['customerName']]\n",
    "customers['customerSurname'] = [toEng(i) for i in customers['customerSurname']]\n",
    "customers.drop_duplicates(inplace=True)\n",
    "\n",
    "books = pd.read_csv('books.csv')\n",
    "books['Kitap İsmi'] = [toEng(i) for i in books['Kitap İsmi']]\n",
    "books['Yazar'] = [toEng(i) for i in books['Yazar']]\n",
    "books.drop_duplicates(inplace=True)"
   ]
  },
  {
   "cell_type": "code",
   "execution_count": 4,
   "metadata": {},
   "outputs": [],
   "source": [
    "BOOKS = books['Kitap İsmi'].drop_duplicates(inplace=True)\n",
    "AUTHORS = books['Yazar'].drop_duplicates(inplace=True)"
   ]
  },
  {
   "cell_type": "code",
   "execution_count": 5,
   "metadata": {},
   "outputs": [],
   "source": [
    "BOOKS=books['Kitap İsmi'].unique()\n",
    "AUTHORS=books['Yazar'].unique()"
   ]
  },
  {
   "source": [
    "## Cities"
   ],
   "cell_type": "markdown",
   "metadata": {}
  },
  {
   "cell_type": "code",
   "execution_count": 6,
   "metadata": {},
   "outputs": [
    {
     "output_type": "stream",
     "name": "stdout",
     "text": [
      "successfull\n"
     ]
    }
   ],
   "source": [
    "for id_, name_ in zip(cities['cityID'], cities['cityName']):\n",
    "    addCity(id_, name_)\n",
    "print('successfull')"
   ]
  },
  {
   "source": [
    "## Towns"
   ],
   "cell_type": "markdown",
   "metadata": {}
  },
  {
   "cell_type": "code",
   "execution_count": 7,
   "metadata": {},
   "outputs": [
    {
     "output_type": "stream",
     "name": "stdout",
     "text": [
      "successfull\n"
     ]
    }
   ],
   "source": [
    "for id_, town_ in zip(towns['cityID'], towns['townName']):\n",
    "    addTown(id_, town_)\n",
    "print('successfull')"
   ]
  },
  {
   "source": [
    "## Branches"
   ],
   "cell_type": "markdown",
   "metadata": {}
  },
  {
   "cell_type": "code",
   "execution_count": 6,
   "metadata": {},
   "outputs": [],
   "source": [
    "branches['cityID'] = [random.choice(cities['cityID']) for i in range(81)]"
   ]
  },
  {
   "cell_type": "code",
   "execution_count": 7,
   "metadata": {},
   "outputs": [
    {
     "output_type": "execute_result",
     "data": {
      "text/plain": [
       "               branches  cityID\n",
       "0                   ZHU      58\n",
       "1                UYKULU      46\n",
       "2  MUKEMMEL BIR KITAPCI      20\n",
       "3          KITAP BILIMI      53\n",
       "4             KITAPEVIM      40"
      ],
      "text/html": "<div>\n<style scoped>\n    .dataframe tbody tr th:only-of-type {\n        vertical-align: middle;\n    }\n\n    .dataframe tbody tr th {\n        vertical-align: top;\n    }\n\n    .dataframe thead th {\n        text-align: right;\n    }\n</style>\n<table border=\"1\" class=\"dataframe\">\n  <thead>\n    <tr style=\"text-align: right;\">\n      <th></th>\n      <th>branches</th>\n      <th>cityID</th>\n    </tr>\n  </thead>\n  <tbody>\n    <tr>\n      <th>0</th>\n      <td>ZHU</td>\n      <td>58</td>\n    </tr>\n    <tr>\n      <th>1</th>\n      <td>UYKULU</td>\n      <td>46</td>\n    </tr>\n    <tr>\n      <th>2</th>\n      <td>MUKEMMEL BIR KITAPCI</td>\n      <td>20</td>\n    </tr>\n    <tr>\n      <th>3</th>\n      <td>KITAP BILIMI</td>\n      <td>53</td>\n    </tr>\n    <tr>\n      <th>4</th>\n      <td>KITAPEVIM</td>\n      <td>40</td>\n    </tr>\n  </tbody>\n</table>\n</div>"
     },
     "metadata": {},
     "execution_count": 7
    }
   ],
   "source": [
    "branches.head()"
   ]
  },
  {
   "cell_type": "code",
   "execution_count": 8,
   "metadata": {},
   "outputs": [
    {
     "output_type": "stream",
     "name": "stdout",
     "text": [
      "successfull\n"
     ]
    }
   ],
   "source": [
    "\n",
    "for town_, branchName_ in zip(branches['cityID'], branches['branches']):\n",
    "    addBranch(town_, branchName_)\n",
    "print('successfull')\n"
   ]
  },
  {
   "source": [
    "for town_, branchName_ in zip(branches_['townID'], branches_['branchName']):\n",
    "    addBranch(town_, branchName_)\n",
    "print('successfull')"
   ],
   "cell_type": "markdown",
   "metadata": {}
  },
  {
   "source": [
    "## PUBLISHERS"
   ],
   "cell_type": "markdown",
   "metadata": {}
  },
  {
   "cell_type": "code",
   "execution_count": 13,
   "metadata": {},
   "outputs": [
    {
     "output_type": "execute_result",
     "data": {
      "text/plain": [
       "   publisherID         publisherName\n",
       "0            1  IS BANKASI YAYINLARI\n",
       "1            2         CAN YAYINLARI\n",
       "2            3        BILAL KITAPEVI\n",
       "3            4               PEARSON\n",
       "4            5                  ALFA"
      ],
      "text/html": "<div>\n<style scoped>\n    .dataframe tbody tr th:only-of-type {\n        vertical-align: middle;\n    }\n\n    .dataframe tbody tr th {\n        vertical-align: top;\n    }\n\n    .dataframe thead th {\n        text-align: right;\n    }\n</style>\n<table border=\"1\" class=\"dataframe\">\n  <thead>\n    <tr style=\"text-align: right;\">\n      <th></th>\n      <th>publisherID</th>\n      <th>publisherName</th>\n    </tr>\n  </thead>\n  <tbody>\n    <tr>\n      <th>0</th>\n      <td>1</td>\n      <td>IS BANKASI YAYINLARI</td>\n    </tr>\n    <tr>\n      <th>1</th>\n      <td>2</td>\n      <td>CAN YAYINLARI</td>\n    </tr>\n    <tr>\n      <th>2</th>\n      <td>3</td>\n      <td>BILAL KITAPEVI</td>\n    </tr>\n    <tr>\n      <th>3</th>\n      <td>4</td>\n      <td>PEARSON</td>\n    </tr>\n    <tr>\n      <th>4</th>\n      <td>5</td>\n      <td>ALFA</td>\n    </tr>\n  </tbody>\n</table>\n</div>"
     },
     "metadata": {},
     "execution_count": 13
    }
   ],
   "source": [
    "publishers.head()"
   ]
  },
  {
   "cell_type": "code",
   "execution_count": 14,
   "metadata": {},
   "outputs": [
    {
     "output_type": "stream",
     "name": "stdout",
     "text": [
      "successfull\n"
     ]
    }
   ],
   "source": [
    "for publisher_ in publishers['publisherName']:\n",
    "    addPublisher(publisher_)\n",
    "print('successfull')"
   ]
  },
  {
   "source": [
    "## Types "
   ],
   "cell_type": "markdown",
   "metadata": {}
  },
  {
   "cell_type": "code",
   "execution_count": 15,
   "metadata": {},
   "outputs": [
    {
     "output_type": "stream",
     "name": "stdout",
     "text": [
      "successfull\n"
     ]
    }
   ],
   "source": [
    "for type_ in types['type']:\n",
    "    addType(type_)\n",
    "print('successfull')"
   ]
  },
  {
   "cell_type": "code",
   "execution_count": null,
   "metadata": {},
   "outputs": [],
   "source": []
  },
  {
   "source": [
    "## Authors"
   ],
   "cell_type": "markdown",
   "metadata": {}
  },
  {
   "cell_type": "code",
   "execution_count": 16,
   "metadata": {},
   "outputs": [
    {
     "output_type": "execute_result",
     "data": {
      "text/plain": [
       "array(['KHALED HOSSEINI', 'AKILAH - AZRA KOHEN', 'HASAN ALI TOPTAS', ...,\n",
       "       'ZEYNEP USTUN', 'ZEYNEP TUGCE KARADAG', 'HELENA BIGGS'],\n",
       "      dtype=object)"
      ]
     },
     "metadata": {},
     "execution_count": 16
    }
   ],
   "source": [
    "AUTHORS"
   ]
  },
  {
   "cell_type": "code",
   "execution_count": null,
   "metadata": {},
   "outputs": [],
   "source": [
    "for name_ in AUTHORS:\n",
    "    addAuthor(name_, genDate())\n",
    "    pass\n",
    "print('successfull')"
   ]
  },
  {
   "source": [
    "## BOOKS"
   ],
   "cell_type": "markdown",
   "metadata": {}
  },
  {
   "cell_type": "code",
   "execution_count": 18,
   "metadata": {},
   "outputs": [],
   "source": [
    "AUTHORS = readTable('authorTBL')\n",
    "BOOKS = pd.merge(left=books, right=pd.DataFrame({'Kitap İsmi':BOOKS}))\n",
    "TYPES = readTable('typeTBL')\n",
    "types_=[random.choice(list(TYPES['typeID'])) for i in range(len(BOOKS))]\n",
    "PUBLISHER = readTable('publisherTBL')"
   ]
  },
  {
   "cell_type": "code",
   "execution_count": 19,
   "metadata": {},
   "outputs": [],
   "source": [
    "\n",
    "publisher_=[random.choice(list(PUBLISHER['publisherID'])) for i in range(len(BOOKS))]"
   ]
  },
  {
   "cell_type": "code",
   "execution_count": 20,
   "metadata": {},
   "outputs": [],
   "source": [
    "BOOKS['publisherID'] = publisher_\n",
    "BOOKS['typeID'] = types_"
   ]
  },
  {
   "cell_type": "code",
   "execution_count": 21,
   "metadata": {},
   "outputs": [],
   "source": [
    "BOOKS = pd.merge(left=BOOKS, right=AUTHORS, left_on='Yazar', right_on='authorName')"
   ]
  },
  {
   "cell_type": "code",
   "execution_count": 22,
   "metadata": {},
   "outputs": [],
   "source": [
    "BOOKS_ = pd.DataFrame({\n",
    "    'bookName':BOOKS['Kitap İsmi'],\n",
    "    'authorID':BOOKS['authorID'],\n",
    "    'typeID': BOOKS['typeID'],\n",
    "    'publisherID': BOOKS['publisherID']\n",
    "})"
   ]
  },
  {
   "cell_type": "code",
   "execution_count": 23,
   "metadata": {},
   "outputs": [
    {
     "output_type": "execute_result",
     "data": {
      "text/plain": [
       "                      Kitap İsmi            Yazar  publisherID  typeID  \\\n",
       "0                 UCURTMA AVCISI  KHALED HOSSEINI            5      10   \n",
       "1  VE DAGLAR YANKILANDI MIDI BOY  KHALED HOSSEINI            3      32   \n",
       "2           VE DAGLAR YANKILANDI  KHALED HOSSEINI           11       2   \n",
       "3        UCURTMA AVCISI MIDI BOY  KHALED HOSSEINI            5       8   \n",
       "4             BIN MUHTESEM GUNES  KHALED HOSSEINI            9       9   \n",
       "\n",
       "   authorID       authorName authorBirthDate  \n",
       "0         1  KHALED HOSSEINI      1969-12-11  \n",
       "1         1  KHALED HOSSEINI      1969-12-11  \n",
       "2         1  KHALED HOSSEINI      1969-12-11  \n",
       "3         1  KHALED HOSSEINI      1969-12-11  \n",
       "4         1  KHALED HOSSEINI      1969-12-11  "
      ],
      "text/html": "<div>\n<style scoped>\n    .dataframe tbody tr th:only-of-type {\n        vertical-align: middle;\n    }\n\n    .dataframe tbody tr th {\n        vertical-align: top;\n    }\n\n    .dataframe thead th {\n        text-align: right;\n    }\n</style>\n<table border=\"1\" class=\"dataframe\">\n  <thead>\n    <tr style=\"text-align: right;\">\n      <th></th>\n      <th>Kitap İsmi</th>\n      <th>Yazar</th>\n      <th>publisherID</th>\n      <th>typeID</th>\n      <th>authorID</th>\n      <th>authorName</th>\n      <th>authorBirthDate</th>\n    </tr>\n  </thead>\n  <tbody>\n    <tr>\n      <th>0</th>\n      <td>UCURTMA AVCISI</td>\n      <td>KHALED HOSSEINI</td>\n      <td>5</td>\n      <td>10</td>\n      <td>1</td>\n      <td>KHALED HOSSEINI</td>\n      <td>1969-12-11</td>\n    </tr>\n    <tr>\n      <th>1</th>\n      <td>VE DAGLAR YANKILANDI MIDI BOY</td>\n      <td>KHALED HOSSEINI</td>\n      <td>3</td>\n      <td>32</td>\n      <td>1</td>\n      <td>KHALED HOSSEINI</td>\n      <td>1969-12-11</td>\n    </tr>\n    <tr>\n      <th>2</th>\n      <td>VE DAGLAR YANKILANDI</td>\n      <td>KHALED HOSSEINI</td>\n      <td>11</td>\n      <td>2</td>\n      <td>1</td>\n      <td>KHALED HOSSEINI</td>\n      <td>1969-12-11</td>\n    </tr>\n    <tr>\n      <th>3</th>\n      <td>UCURTMA AVCISI MIDI BOY</td>\n      <td>KHALED HOSSEINI</td>\n      <td>5</td>\n      <td>8</td>\n      <td>1</td>\n      <td>KHALED HOSSEINI</td>\n      <td>1969-12-11</td>\n    </tr>\n    <tr>\n      <th>4</th>\n      <td>BIN MUHTESEM GUNES</td>\n      <td>KHALED HOSSEINI</td>\n      <td>9</td>\n      <td>9</td>\n      <td>1</td>\n      <td>KHALED HOSSEINI</td>\n      <td>1969-12-11</td>\n    </tr>\n  </tbody>\n</table>\n</div>"
     },
     "metadata": {},
     "execution_count": 23
    }
   ],
   "source": [
    "BOOKS.head()"
   ]
  },
  {
   "cell_type": "code",
   "execution_count": 26,
   "metadata": {},
   "outputs": [
    {
     "output_type": "stream",
     "name": "stdout",
     "text": [
      "successfull\n"
     ]
    }
   ],
   "source": [
    "for i,j,k,l in zip(BOOKS['Kitap İsmi'], BOOKS['authorID'], BOOKS['typeID'], BOOKS['publisherID']):\n",
    "    addBook(i[:49],j,k,l)\n",
    "print('successfull')"
   ]
  },
  {
   "source": [
    "# ---------"
   ],
   "cell_type": "markdown",
   "metadata": {}
  },
  {
   "cell_type": "code",
   "execution_count": 27,
   "metadata": {},
   "outputs": [],
   "source": [
    "TOWNS = readTable('townTBL')"
   ]
  },
  {
   "cell_type": "code",
   "execution_count": 28,
   "metadata": {},
   "outputs": [],
   "source": [
    "import numpy as np\n",
    "import random"
   ]
  },
  {
   "cell_type": "code",
   "execution_count": 29,
   "metadata": {},
   "outputs": [],
   "source": [
    "randomNo=[str(random.randint(1000000,9999999)) for i in range(len(customers))]\n",
    "opNo=[str(i) for i in np.arange(532,548)]\n",
    "opNo_=[random.choice(opNo) for i in range(len(customers))]\n",
    "phoeNos=[i+j for i,j in zip(opNo_, randomNo)]"
   ]
  },
  {
   "cell_type": "code",
   "execution_count": 30,
   "metadata": {},
   "outputs": [],
   "source": [
    "townIDS_=[random.choice(TOWNS['townID']) for i in range(len(customers))]"
   ]
  },
  {
   "cell_type": "code",
   "execution_count": 32,
   "metadata": {},
   "outputs": [
    {
     "output_type": "stream",
     "name": "stdout",
     "text": [
      "successfull\n"
     ]
    }
   ],
   "source": [
    "for i,j,k,l in zip(customers['customerName'], customers['customerSurname'], phoeNos, townIDS_):\n",
    "    addCustomer(i,j,k,l)\n",
    "print('successfull')"
   ]
  },
  {
   "cell_type": "code",
   "execution_count": 33,
   "metadata": {},
   "outputs": [],
   "source": [
    "CUSTOMERS = readTable('customerTBL')\n",
    "BOOKS = readTable('bookTBL')\n",
    "BRANCH = readTable('branchTBL')\n"
   ]
  },
  {
   "cell_type": "code",
   "execution_count": 34,
   "metadata": {},
   "outputs": [],
   "source": [
    "customerID=[random.choice(CUSTOMERS['customerID']) for i in range(1500)]\n",
    "bookID=[random.choice(BOOKS['bookID']) for i in range(1500)]\n",
    "branchID=[random.choice(BRANCH['branchID']) for i in range(1500)]\n",
    "count=[random.choice([1,2,3,4,5,6,7,8,9,10]) for i in range(1500)]\n",
    "price=[random.choice([12.3,2.34,3.5,4.3,54,635,7.4,85.4,94.4,10.55]) for i in range(1500)]\n"
   ]
  },
  {
   "cell_type": "code",
   "execution_count": 38,
   "metadata": {},
   "outputs": [
    {
     "output_type": "execute_result",
     "data": {
      "text/plain": [
       "0"
      ]
     },
     "metadata": {},
     "execution_count": 38
    }
   ],
   "source": [
    "pd.DataFrame({\n",
    "    \"a\":customerID,\n",
    "    \"b\":bookID,\n",
    "    \"c\":branchID,\n",
    "    \"d\":count,\n",
    "    \"e\":price\n",
    "}).duplicated().sum()"
   ]
  },
  {
   "cell_type": "code",
   "execution_count": 39,
   "metadata": {},
   "outputs": [
    {
     "output_type": "stream",
     "name": "stdout",
     "text": [
      "successfull\n"
     ]
    }
   ],
   "source": [
    "for i,j,k,l,m in zip(customerID, bookID, branchID, count, price):\n",
    "    addTransaction(i,j,k,l,m)\n",
    "print('successfull')"
   ]
  },
  {
   "cell_type": "code",
   "execution_count": null,
   "metadata": {},
   "outputs": [],
   "source": []
  }
 ]
}